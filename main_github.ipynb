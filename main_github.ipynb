{
 "cells": [
  {
   "cell_type": "code",
   "execution_count": 1,
   "metadata": {},
   "outputs": [],
   "source": [
    "import numpy as np\n",
    "from matplotlib import gridspec\n",
    "from matplotlib.colorbar import Colorbar \n",
    "from matplotlib import cm\n",
    "import matplotlib.pyplot as plt\n",
    "import pandas as pd\n",
    "import matplotlib.ticker as ticker\n",
    "\n",
    "import sompy\n",
    "import pickle \n",
    "from sompy.sompy import SOMFactory\n",
    "#from sompy.visualization.plot_tools import plot_hex_map\n",
    "from astropy.io import fits\n",
    "from astropy.table import Table\n",
    "from collections import Counter  
    "from sompy.visualization.mapview import View2D\n",
    "from scipy.interpolate import interp1d\n",
    "\n",
    "import random\n"
   ]
  },
  {
   "cell_type": "code",
   "execution_count": 3,
   "metadata": {},
   "outputs": [],
   "source": [
    "# function to define the color set used to train SOM\n",
    "def color_set(mags):\n",
    "    colors = [mags[0]-mags[1], mags[1]-mags[5], mags[1]-mags[6], \n",
    "              mags[2]-mags[3], mags[2]-mags[4], mags[2]-mags[5], \n",
    "              mags[3]-mags[4], mags[6]-mags[7], mags[8]-mags[10], \n",
    "              mags[9]-mags[10]]\n",
    "    return colors\n",
    "\n",
    "# photometric bands\n",
    "name_band = ['u', 'g', 'r', 'i', 'z', 'Y', 'J', 'H', 'K', 'ch1', 'ch2']\n",
    "# colors\n",
    "name_cols = ['u-g', 'g-Y', 'g-J', 'r-i', 'r-z', 'r-Y', 'i-z', 'J-H', 'K-ch2', 'ch1-ch2'] \n",
    "\n",
    "# SOM parameter\n",
    "ms0 = 80\n",
    "ms1 = 80\n",
    "initmethod = 'pca'\n",
    "lattice = 'rect' \n",
    "normalization = 'var'\n"
   ]
  },
  {
   "cell_type": "markdown",
   "metadata": {},
   "source": [
    "Read data from Horizon-AGN lightcone"
   ]
  },
  {
   "cell_type": "code",
   "execution_count": null,
   "metadata": {},
   "outputs": [],
   "source": [
    "path_data = # put here your path data\n",
    "\n",
    "hagn = np.load(path_data+'Calibrated_HAGN_data.npy')\n",
    "\n",
    "# Take magnitudes\n",
    "mag = np.transpose(hagn)[8:19]\n",
    "\n",
    "# Training set: 10 input colors \n",
    "col = color_set(mag) # derive the 10 input colors\n",
    "color_dataset = pd.DataFrame(data=np.transpose(col), columns=name_cols) "
   ]
  },
  {
   "cell_type": "code",
   "execution_count": null,
   "metadata": {},
   "outputs": [],
   "source": [
    "##########################################################################################\n",
    "# Read saved results from training a SOM\n",
    "##########################################################################################\n",
    "## Trained SOM\n",
    "file = open('SOM.pickle', 'rb')\n",
    "SOM = pickle.load(file)\n",
    "file.close()\n",
    "\n",
    "\n",
    "## Medians\n",
    "z_med = np.loadtxt('med_z.txt')\n",
    "ssfr_med = np.loadtxt('med_ssfr.txt')\n",
    "nsfr_med = np.loadtxt('med_nsfr.txt')\n",
    "nm_med = np.loadtxt('med_nm.txt')\n",
    "medians = [z_med, ssfr_med, nsfr_med, nm_med]\n",
    "print(np.shape(z_med), np.shape(ssfr_med), np.shape(nsfr_med), np.shape(nm_med), np.shape(medians), np.shape(medians[0]))\n",
    "\n",
    "## Dispersions\n",
    "z_disp = np.loadtxt('disp_z.txt')\n",
    "ssfr_disp = np.loadtxt('disp_lssfr.txt')\n",
    "nsfr_disp = np.loadtxt('disp_lnsfr.txt')\n",
    "nm_disp = np.loadtxt('disp_lnm.txt')\n",
    "param_err = [z_disp, ssfr_disp, nsfr_disp, nm_disp]\n",
    "\n",
    "## Coordinates of galaxies on SOM are saved in the files xx.npy and yy.npy\n"
   ]
  },
  {
   "cell_type": "code",
   "execution_count": null,
   "metadata": {},
   "outputs": [],
   "source": [
    "# Test dataset is on Github named Ks_sample_param_mags"
   ]
  }
 ],
 "metadata": {
  "kernelspec": {
   "display_name": "Python (jupyter396)",
   "language": "python",
   "name": "jupyter396"
  },
  "language_info": {
   "codemirror_mode": {
    "name": "ipython",
    "version": 3
   },
   "file_extension": ".py",
   "mimetype": "text/x-python",
   "name": "python",
   "nbconvert_exporter": "python",
   "pygments_lexer": "ipython3",
   "version": "3.9.7"
  }
 },
 "nbformat": 4,
 "nbformat_minor": 2
}
